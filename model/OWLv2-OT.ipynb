{
 "cells": [
  {
   "cell_type": "code",
   "execution_count": 1,
   "metadata": {
    "execution": {
     "iopub.execute_input": "2024-11-20T01:45:35.333481Z",
     "iopub.status.busy": "2024-11-20T01:45:35.333106Z",
     "iopub.status.idle": "2024-11-20T01:45:51.210424Z",
     "shell.execute_reply": "2024-11-20T01:45:51.209726Z",
     "shell.execute_reply.started": "2024-11-20T01:45:35.333446Z"
    },
    "trusted": true
   },
   "outputs": [],
   "source": [
    "from transformers import AutoProcessor, AutoModelForZeroShotObjectDetection\n",
    "import torch\n",
    "from torch.utils.data import DataLoader, Dataset\n",
    "from PIL import Image, ImageDraw\n",
    "import cv2\n",
    "import numpy as np\n",
    "import os\n",
    "from concurrent.futures import ThreadPoolExecutor\n",
    "from itertools import chain\n",
    "from tqdm import tqdm\n",
    "import json\n",
    "import copy"
   ]
  },
  {
   "cell_type": "code",
   "execution_count": null,
   "metadata": {
    "execution": {
     "iopub.execute_input": "2024-11-20T01:47:37.486603Z",
     "iopub.status.busy": "2024-11-20T01:47:37.486243Z",
     "iopub.status.idle": "2024-11-20T01:47:37.490902Z",
     "shell.execute_reply": "2024-11-20T01:47:37.489970Z",
     "shell.execute_reply.started": "2024-11-20T01:47:37.486573Z"
    },
    "trusted": true
   },
   "outputs": [],
   "source": [
    "VIDEO_PATH = \"./videos\"\n",
    "JSON_PATH = \"?\"\n",
    "SAMPLE_PATH = \"?\" # for output videos with bounding boxes\n",
    "MODEL_PATH = \"google/owlv2-base-patch16-ensemble\"\n",
    "BATCH_SIZE = 1\n",
    "VIDEO_LENGTH = 20 # in seconds\n",
    "VIDEO_STEP = 1 # in seconds\n",
    "NUM_VIDEOS = 2\n",
    "HEATMAP_INTENSITY = 5"
   ]
  },
  {
   "cell_type": "code",
   "execution_count": 21,
   "metadata": {
    "execution": {
     "iopub.execute_input": "2024-11-20T01:47:42.779468Z",
     "iopub.status.busy": "2024-11-20T01:47:42.779088Z",
     "iopub.status.idle": "2024-11-20T01:53:28.723523Z",
     "shell.execute_reply": "2024-11-20T01:53:28.722554Z",
     "shell.execute_reply.started": "2024-11-20T01:47:42.779435Z"
    },
    "trusted": true
   },
   "outputs": [],
   "source": [
    "timestamps = np.arange(0, VIDEO_LENGTH, VIDEO_STEP)\n",
    "try:\n",
    "    video_paths = [os.path.join(VIDEO_PATH, video) for video in os.listdir(VIDEO_PATH)]\n",
    "except:\n",
    "    video_paths = [VIDEO_PATH]\n",
    "\n",
    "\n",
    "def extract_frame_at_timestamp(video_path, timestamp):\n",
    "    cap = cv2.VideoCapture(video_path)\n",
    "    \n",
    "    fps = cap.get(cv2.CAP_PROP_FPS)\n",
    "    frame_number = int(timestamp * fps)\n",
    "    \n",
    "    cap.set(cv2.CAP_PROP_POS_FRAMES, frame_number)\n",
    "    \n",
    "    ret, frame = cap.read()\n",
    "    if not ret:\n",
    "        cap.release()\n",
    "        return None\n",
    "    \n",
    "    frame_rgb = cv2.cvtColor(frame, cv2.COLOR_BGR2RGB)\n",
    "    cap.release()\n",
    "\n",
    "    frame_image = Image.fromarray(frame_rgb)\n",
    "    return frame_image\n",
    "\n",
    "def process_video(video_path):\n",
    "    frames = []\n",
    "    for timestamp in timestamps:\n",
    "        frame_image = extract_frame_at_timestamp(video_path, timestamp)\n",
    "        if frame_image:\n",
    "            frames.append(frame_image)\n",
    "    return frames\n",
    "\n",
    "with ThreadPoolExecutor() as executor:\n",
    "    results = list(executor.map(process_video, video_paths))\n",
    "\n",
    "img_list = list(chain.from_iterable(results))"
   ]
  },
  {
   "cell_type": "code",
   "execution_count": 23,
   "metadata": {},
   "outputs": [],
   "source": [
    "thres = len(img_list) // NUM_VIDEOS\n",
    "\n",
    "rgb_list = np.array(img_list[:thres])\n",
    "ir_list = np.array(img_list[thres:])"
   ]
  },
  {
   "cell_type": "code",
   "execution_count": null,
   "metadata": {},
   "outputs": [],
   "source": [
    "def filters(rgb, ir):\n",
    "    heatmap = []\n",
    "    for rgb, ir in zip(rgb_list, ir_list):\n",
    "        ir_normalized = cv2.normalize(ir, None, 0, 255, cv2.NORM_MINMAX).astype(np.uint8)\n",
    "        ir_heatmap = cv2.applyColorMap(ir_normalized, cv2.COLORMAP_JET)\n",
    "        highlighted_image = cv2.addWeighted(rgb, 1.0, ir_heatmap, HEATMAP_INTENSITY, 0)\n",
    "        heatmap.append(highlighted_image)\n",
    "    return heatmap\n",
    "\n",
    "filtered_img = filters(rgb_list, ir_list)"
   ]
  },
  {
   "cell_type": "code",
   "execution_count": 9,
   "metadata": {
    "execution": {
     "iopub.execute_input": "2024-11-20T01:53:40.299812Z",
     "iopub.status.busy": "2024-11-20T01:53:40.299117Z",
     "iopub.status.idle": "2024-11-20T01:53:52.400187Z",
     "shell.execute_reply": "2024-11-20T01:53:52.399240Z",
     "shell.execute_reply.started": "2024-11-20T01:53:40.299777Z"
    },
    "trusted": true
   },
   "outputs": [],
   "source": [
    "device = torch.device(\"cuda\" if torch.cuda.is_available() else \"cpu\")\n",
    "\n",
    "image_processor = AutoProcessor.from_pretrained(MODEL_PATH)\n",
    "model = AutoModelForZeroShotObjectDetection.from_pretrained(MODEL_PATH).to(device)"
   ]
  },
  {
   "cell_type": "code",
   "execution_count": 12,
   "metadata": {
    "execution": {
     "iopub.execute_input": "2024-11-20T01:57:48.790878Z",
     "iopub.status.busy": "2024-11-20T01:57:48.790545Z",
     "iopub.status.idle": "2024-11-20T01:58:12.862468Z",
     "shell.execute_reply": "2024-11-20T01:58:12.861725Z",
     "shell.execute_reply.started": "2024-11-20T01:57:48.790849Z"
    },
    "trusted": true
   },
   "outputs": [],
   "source": [
    "class CustomDataset(Dataset):\n",
    "    def __init__(self, data_dict, text_queries, image_processor):\n",
    "        self.pixel_values = []\n",
    "        self.input_ids = []\n",
    "        self.attention_masks = []\n",
    "\n",
    "        for img, query in zip(data_dict, text_queries):\n",
    "            inputs = image_processor(text=query, images=img, return_tensors=\"pt\")\n",
    "            self.pixel_values.append(inputs[\"pixel_values\"].squeeze(0))\n",
    "            self.input_ids.append(inputs[\"input_ids\"].squeeze(0))\n",
    "            self.attention_masks.append(inputs[\"attention_mask\"].squeeze(0))\n",
    "\n",
    "    def __len__(self):\n",
    "        return len(self.pixel_values)\n",
    "\n",
    "    def __getitem__(self, idx):\n",
    "        return {\n",
    "            \"pixel_values\": self.pixel_values[idx],\n",
    "            \"input_ids\": self.input_ids[idx],\n",
    "            \"attention_mask\": self.attention_masks[idx]\n",
    "        }\n",
    "\n",
    "text_queries = [[\"a small glowing spherical object\"] for i in range(len(filtered_img))]\n",
    "dataset = CustomDataset(filtered_img,text_queries,image_processor)\n",
    "data_loader = DataLoader(dataset, batch_size=BATCH_SIZE, pin_memory=True)"
   ]
  },
  {
   "cell_type": "code",
   "execution_count": null,
   "metadata": {
    "execution": {
     "iopub.execute_input": "2024-11-20T01:58:19.727435Z",
     "iopub.status.busy": "2024-11-20T01:58:19.726847Z",
     "iopub.status.idle": "2024-11-20T01:59:47.632756Z",
     "shell.execute_reply": "2024-11-20T01:59:47.631832Z",
     "shell.execute_reply.started": "2024-11-20T01:58:19.727398Z"
    },
    "trusted": true
   },
   "outputs": [
    {
     "name": "stderr",
     "output_type": "stream",
     "text": [
      "100%|██████████| 200/200 [00:43<00:00,  4.59it/s]\n"
     ]
    }
   ],
   "source": [
    "total_output = []\n",
    "with torch.no_grad():\n",
    "    for batch in tqdm(data_loader):\n",
    "        for k,v in batch.items():\n",
    "            batch[k] = v.to(device)\n",
    "        outputs = model(**batch)\n",
    "        total_output.append(image_processor.post_process_object_detection(\n",
    "            outputs, \n",
    "            threshold=0.1, \n",
    "            target_sizes=[(img_list[0].width,img_list[0].height)]))"
   ]
  },
  {
   "cell_type": "code",
   "execution_count": 15,
   "metadata": {
    "execution": {
     "iopub.execute_input": "2024-11-20T01:59:55.379111Z",
     "iopub.status.busy": "2024-11-20T01:59:55.378470Z",
     "iopub.status.idle": "2024-11-20T01:59:56.619136Z",
     "shell.execute_reply": "2024-11-20T01:59:56.618062Z",
     "shell.execute_reply.started": "2024-11-20T01:59:55.379075Z"
    },
    "trusted": true
   },
   "outputs": [],
   "source": [
    "fourcc = cv2.VideoWriter_fourcc(*\"mp4v\")\n",
    "fps = 1\n",
    "frame_size = (img_list[0].width, img_list[0].height)\n",
    "out = cv2.VideoWriter(SAMPLE_PATH, fourcc, fps, frame_size)\n",
    "\n",
    "for frame, result in zip(img_list[:thres], total_output):\n",
    "    draw = ImageDraw.Draw(frame)\n",
    "    boxes = result[0][\"boxes\"]\n",
    "    scores = result[0][\"scores\"]\n",
    "    labels = result[0][\"labels\"]\n",
    "\n",
    "    for box, score, label in zip(boxes, scores, labels):\n",
    "        x_min, y_min, x_max, y_max = box\n",
    "        draw.rectangle([(x_min, y_min), (x_max, y_max)], outline=\"red\", width=3)\n",
    "\n",
    "    frame_cv2 = cv2.cvtColor(np.array(frame), cv2.COLOR_RGB2BGR)\n",
    "    out.write(frame_cv2)\n",
    "\n",
    "out.release()"
   ]
  },
  {
   "cell_type": "markdown",
   "metadata": {},
   "source": [
    "The code below is used to produce JSON for mathematical script"
   ]
  },
  {
   "cell_type": "code",
   "execution_count": null,
   "metadata": {
    "execution": {
     "iopub.execute_input": "2024-11-20T01:08:20.844570Z",
     "iopub.status.busy": "2024-11-20T01:08:20.843732Z",
     "iopub.status.idle": "2024-11-20T01:08:20.932657Z",
     "shell.execute_reply": "2024-11-20T01:08:20.932001Z",
     "shell.execute_reply.started": "2024-11-20T01:08:20.844534Z"
    },
    "trusted": true
   },
   "outputs": [],
   "source": [
    "\"\"\" testing = copy.deepcopy(total_output)\n",
    "for scene in testing:\n",
    "    for key, value in scene[0].items():\n",
    "        if isinstance(value, torch.Tensor):\n",
    "            scene[0][key] = value.tolist() \"\"\""
   ]
  },
  {
   "cell_type": "code",
   "execution_count": null,
   "metadata": {
    "execution": {
     "iopub.execute_input": "2024-11-20T01:08:24.871528Z",
     "iopub.status.busy": "2024-11-20T01:08:24.871179Z",
     "iopub.status.idle": "2024-11-20T01:08:24.876544Z",
     "shell.execute_reply": "2024-11-20T01:08:24.875781Z",
     "shell.execute_reply.started": "2024-11-20T01:08:24.871497Z"
    },
    "trusted": true
   },
   "outputs": [],
   "source": [
    "\"\"\" box_inx = []\n",
    "\n",
    "for sublist_index, sublist in enumerate(testing):\n",
    "    for d in sublist:\n",
    "        if \"boxes\" in d:\n",
    "            box_inx.append(d[\"boxes\"])\n",
    "\n",
    "end_inx = len(filtered_img)\n",
    "output_json = {\"video3\":box_inx[:end_inx],\n",
    "              \"video2\":box_inx[end_inx:end_inx*2],\n",
    "              \"video1\":box_inx[end_inx*2:end_inx*3]} \"\"\""
   ]
  },
  {
   "cell_type": "code",
   "execution_count": null,
   "metadata": {
    "execution": {
     "iopub.execute_input": "2024-11-20T01:08:28.092880Z",
     "iopub.status.busy": "2024-11-20T01:08:28.092484Z",
     "iopub.status.idle": "2024-11-20T01:08:28.101951Z",
     "shell.execute_reply": "2024-11-20T01:08:28.100921Z",
     "shell.execute_reply.started": "2024-11-20T01:08:28.092841Z"
    },
    "trusted": true
   },
   "outputs": [],
   "source": [
    "\"\"\" with open(JSON_PATH, \"w\") as json_file:\n",
    "    json.dump(output_json, json_file, indent=4) \"\"\""
   ]
  }
 ],
 "metadata": {
  "kaggle": {
   "accelerator": "gpu",
   "dataSources": [
    {
     "datasetId": 6119645,
     "sourceId": 9952909,
     "sourceType": "datasetVersion"
    }
   ],
   "dockerImageVersionId": 30787,
   "isGpuEnabled": true,
   "isInternetEnabled": true,
   "language": "python",
   "sourceType": "notebook"
  },
  "kernelspec": {
   "display_name": "Python 3",
   "language": "python",
   "name": "python3"
  },
  "language_info": {
   "codemirror_mode": {
    "name": "ipython",
    "version": 3
   },
   "file_extension": ".py",
   "mimetype": "text/x-python",
   "name": "python",
   "nbconvert_exporter": "python",
   "pygments_lexer": "ipython3",
   "version": "3.12.2"
  }
 },
 "nbformat": 4,
 "nbformat_minor": 4
}
