{
 "cells": [
  {
   "cell_type": "code",
   "execution_count": 7,
   "metadata": {
    "execution": {
     "iopub.execute_input": "2024-11-20T01:45:35.333481Z",
     "iopub.status.busy": "2024-11-20T01:45:35.333106Z",
     "iopub.status.idle": "2024-11-20T01:45:51.210424Z",
     "shell.execute_reply": "2024-11-20T01:45:51.209726Z",
     "shell.execute_reply.started": "2024-11-20T01:45:35.333446Z"
    },
    "trusted": true
   },
   "outputs": [],
   "source": [
    "from transformers import AutoProcessor, AutoModelForZeroShotObjectDetection\n",
    "import torch\n",
    "from torch.utils.data import DataLoader, Dataset\n",
    "from PIL import Image, ImageDraw\n",
    "import requests\n",
    "import cv2\n",
    "import numpy as np\n",
    "import time\n",
    "from IPython.display import display\n",
    "from moviepy import *\n",
    "import os\n",
    "from concurrent.futures import ThreadPoolExecutor\n",
    "from itertools import chain\n",
    "from tqdm import tqdm\n",
    "import json\n",
    "import copy"
   ]
  },
  {
   "cell_type": "code",
   "execution_count": 10,
   "metadata": {
    "execution": {
     "iopub.execute_input": "2024-11-20T01:47:37.486603Z",
     "iopub.status.busy": "2024-11-20T01:47:37.486243Z",
     "iopub.status.idle": "2024-11-20T01:47:37.490902Z",
     "shell.execute_reply": "2024-11-20T01:47:37.489970Z",
     "shell.execute_reply.started": "2024-11-20T01:47:37.486573Z"
    },
    "trusted": true
   },
   "outputs": [],
   "source": [
    "VIDEO_PATH = \"lainconn/Hackathon-Peleng/train/videoset1\"\n",
    "MODEL_PATH = \"google/owlv2-base-patch16-ensemble\"\n",
    "BATCH_SIZE = 1\n",
    "VIDEO_LENGTH = 5 # in seconds\n",
    "VIDEO_STEP = 1 # in seconds"
   ]
  },
  {
   "cell_type": "code",
   "execution_count": 11,
   "metadata": {
    "execution": {
     "iopub.execute_input": "2024-11-20T01:47:42.779468Z",
     "iopub.status.busy": "2024-11-20T01:47:42.779088Z",
     "iopub.status.idle": "2024-11-20T01:53:28.723523Z",
     "shell.execute_reply": "2024-11-20T01:53:28.722554Z",
     "shell.execute_reply.started": "2024-11-20T01:47:42.779435Z"
    },
    "trusted": true
   },
   "outputs": [
    {
     "ename": "FileNotFoundError",
     "evalue": "[WinError 3] The system cannot find the path specified: 'lainconn/Hackathon-Peleng/train/videoset1'",
     "output_type": "error",
     "traceback": [
      "\u001b[1;31m---------------------------------------------------------------------------\u001b[0m",
      "\u001b[1;31mFileNotFoundError\u001b[0m                         Traceback (most recent call last)",
      "Cell \u001b[1;32mIn[11], line 2\u001b[0m\n\u001b[0;32m      1\u001b[0m timestamps \u001b[38;5;241m=\u001b[39m np\u001b[38;5;241m.\u001b[39marange(\u001b[38;5;241m0\u001b[39m, VIDEO_LENGTH, VIDEO_STEP)\n\u001b[1;32m----> 2\u001b[0m video_paths \u001b[38;5;241m=\u001b[39m [os\u001b[38;5;241m.\u001b[39mpath\u001b[38;5;241m.\u001b[39mjoin(VIDEO_PATH, video) \u001b[38;5;28;01mfor\u001b[39;00m video \u001b[38;5;129;01min\u001b[39;00m \u001b[43mos\u001b[49m\u001b[38;5;241;43m.\u001b[39;49m\u001b[43mlistdir\u001b[49m\u001b[43m(\u001b[49m\u001b[43mVIDEO_PATH\u001b[49m\u001b[43m)\u001b[49m]\n\u001b[0;32m      4\u001b[0m \u001b[38;5;28;01mdef\u001b[39;00m \u001b[38;5;21mextract_frame_at_timestamp\u001b[39m(video_path, timestamp):\n\u001b[0;32m      5\u001b[0m     cap \u001b[38;5;241m=\u001b[39m cv2\u001b[38;5;241m.\u001b[39mVideoCapture(video_path)\n",
      "\u001b[1;31mFileNotFoundError\u001b[0m: [WinError 3] The system cannot find the path specified: 'lainconn/Hackathon-Peleng/train/videoset1'"
     ]
    }
   ],
   "source": [
    "timestamps = np.arange(0, VIDEO_LENGTH, VIDEO_STEP)\n",
    "video_paths = [os.path.join(VIDEO_PATH, video) for video in os.listdir(VIDEO_PATH)]\n",
    "\n",
    "def extract_frame_at_timestamp(video_path, timestamp):\n",
    "    cap = cv2.VideoCapture(video_path)\n",
    "    \n",
    "    fps = cap.get(cv2.CAP_PROP_FPS)\n",
    "    frame_number = int(timestamp * fps)\n",
    "    \n",
    "    cap.set(cv2.CAP_PROP_POS_FRAMES, frame_number)\n",
    "    \n",
    "    ret, frame = cap.read()\n",
    "    if not ret:\n",
    "        cap.release()\n",
    "        return None\n",
    "    \n",
    "    frame_rgb = cv2.cvtColor(frame, cv2.COLOR_BGR2RGB)\n",
    "    cap.release()\n",
    "    \n",
    "    frame_image = Image.fromarray(frame_rgb)\n",
    "    return frame_image\n",
    "\n",
    "def process_video(video_path):\n",
    "    frames = []\n",
    "    for timestamp in timestamps:\n",
    "        frame_image = extract_frame_at_timestamp(video_path, timestamp)\n",
    "        if frame_image:\n",
    "            frames.append(frame_image)\n",
    "    return frames\n",
    "\n",
    "with ThreadPoolExecutor() as executor:\n",
    "    results = list(executor.map(process_video, video_paths))\n",
    "\n",
    "img_list = list(chain.from_iterable(results))"
   ]
  },
  {
   "cell_type": "code",
   "execution_count": 6,
   "metadata": {
    "execution": {
     "iopub.execute_input": "2024-11-20T01:53:40.299812Z",
     "iopub.status.busy": "2024-11-20T01:53:40.299117Z",
     "iopub.status.idle": "2024-11-20T01:53:52.400187Z",
     "shell.execute_reply": "2024-11-20T01:53:52.399240Z",
     "shell.execute_reply.started": "2024-11-20T01:53:40.299777Z"
    },
    "trusted": true
   },
   "outputs": [
    {
     "data": {
      "application/vnd.jupyter.widget-view+json": {
       "model_id": "c3a5cfaf8ae7466cb478063f70ff57ef",
       "version_major": 2,
       "version_minor": 0
      },
      "text/plain": [
       "preprocessor_config.json:   0%|          | 0.00/427 [00:00<?, ?B/s]"
      ]
     },
     "metadata": {},
     "output_type": "display_data"
    },
    {
     "data": {
      "application/vnd.jupyter.widget-view+json": {
       "model_id": "44858fa91aea419989d17bc7cd3376ba",
       "version_major": 2,
       "version_minor": 0
      },
      "text/plain": [
       "tokenizer_config.json:   0%|          | 0.00/1.10k [00:00<?, ?B/s]"
      ]
     },
     "metadata": {},
     "output_type": "display_data"
    },
    {
     "data": {
      "application/vnd.jupyter.widget-view+json": {
       "model_id": "c575b820ce4d4ed089faa1dcc78416c8",
       "version_major": 2,
       "version_minor": 0
      },
      "text/plain": [
       "vocab.json:   0%|          | 0.00/1.06M [00:00<?, ?B/s]"
      ]
     },
     "metadata": {},
     "output_type": "display_data"
    },
    {
     "data": {
      "application/vnd.jupyter.widget-view+json": {
       "model_id": "9342c7bdad8b4ba7a0c2e8f0ec36aa1d",
       "version_major": 2,
       "version_minor": 0
      },
      "text/plain": [
       "merges.txt:   0%|          | 0.00/525k [00:00<?, ?B/s]"
      ]
     },
     "metadata": {},
     "output_type": "display_data"
    },
    {
     "data": {
      "application/vnd.jupyter.widget-view+json": {
       "model_id": "476797f546c145ada717960519280d2f",
       "version_major": 2,
       "version_minor": 0
      },
      "text/plain": [
       "added_tokens.json:   0%|          | 0.00/67.0 [00:00<?, ?B/s]"
      ]
     },
     "metadata": {},
     "output_type": "display_data"
    },
    {
     "data": {
      "application/vnd.jupyter.widget-view+json": {
       "model_id": "6147294fb6f7491894cfa3342c11078c",
       "version_major": 2,
       "version_minor": 0
      },
      "text/plain": [
       "special_tokens_map.json:   0%|          | 0.00/121 [00:00<?, ?B/s]"
      ]
     },
     "metadata": {},
     "output_type": "display_data"
    },
    {
     "data": {
      "application/vnd.jupyter.widget-view+json": {
       "model_id": "67cd26d2b4d442a5a0e12f8d4f3493f0",
       "version_major": 2,
       "version_minor": 0
      },
      "text/plain": [
       "config.json:   0%|          | 0.00/617 [00:00<?, ?B/s]"
      ]
     },
     "metadata": {},
     "output_type": "display_data"
    },
    {
     "data": {
      "application/vnd.jupyter.widget-view+json": {
       "model_id": "f33897c19607445cb2eed1603ffe87c8",
       "version_major": 2,
       "version_minor": 0
      },
      "text/plain": [
       "model.safetensors:   0%|          | 0.00/1.75G [00:00<?, ?B/s]"
      ]
     },
     "metadata": {},
     "output_type": "display_data"
    }
   ],
   "source": [
    "image_processor = AutoProcessor.from_pretrained(MODEL_PATH)\n",
    "model = AutoModelForZeroShotObjectDetection.from_pretrained(MODEL_PATH).to(\"cuda\")"
   ]
  },
  {
   "cell_type": "code",
   "execution_count": 10,
   "metadata": {
    "execution": {
     "iopub.execute_input": "2024-11-20T01:57:48.790878Z",
     "iopub.status.busy": "2024-11-20T01:57:48.790545Z",
     "iopub.status.idle": "2024-11-20T01:58:12.862468Z",
     "shell.execute_reply": "2024-11-20T01:58:12.861725Z",
     "shell.execute_reply.started": "2024-11-20T01:57:48.790849Z"
    },
    "trusted": true
   },
   "outputs": [],
   "source": [
    "class CustomDataset(Dataset):\n",
    "    def __init__(self, data_dict, text_queries, image_processor):\n",
    "        self.pixel_values = []\n",
    "        self.input_ids = []\n",
    "        self.attention_masks = []\n",
    "\n",
    "        for img, query in zip(data_dict[85:150], text_queries[85:150]):\n",
    "            inputs = image_processor(text=query, images=img, return_tensors=\"pt\")\n",
    "            self.pixel_values.append(inputs[\"pixel_values\"].squeeze(0))\n",
    "            self.input_ids.append(inputs[\"input_ids\"].squeeze(0))\n",
    "            self.attention_masks.append(inputs[\"attention_mask\"].squeeze(0))\n",
    "\n",
    "    def __len__(self):\n",
    "        return len(self.pixel_values)\n",
    "\n",
    "    def __getitem__(self, idx):\n",
    "        return {\n",
    "            \"pixel_values\": self.pixel_values[idx],\n",
    "            \"input_ids\": self.input_ids[idx],\n",
    "            \"attention_mask\": self.attention_masks[idx]\n",
    "        }\n",
    "\n",
    "text_queries = [[\"a small dark spherical object\"] for i in range(len(img_list))]\n",
    "dataset = CustomDataset(img_list,text_queries,image_processor)\n",
    "data_loader = DataLoader(dataset, batch_size=BATCH_SIZE, pin_memory=True)"
   ]
  },
  {
   "cell_type": "code",
   "execution_count": 16,
   "metadata": {
    "execution": {
     "iopub.execute_input": "2024-11-19T23:21:48.278875Z",
     "iopub.status.busy": "2024-11-19T23:21:48.278555Z",
     "iopub.status.idle": "2024-11-19T23:22:24.904845Z",
     "shell.execute_reply": "2024-11-19T23:22:24.904111Z",
     "shell.execute_reply.started": "2024-11-19T23:21:48.278849Z"
    },
    "trusted": true
   },
   "outputs": [],
   "source": [
    "\"\"\"text_queries = [[\"a small green spherical object\"] for i in range(len(img_list))]\n",
    "inputs = image_processor(text=text_queries, images=img_list, return_tensors=\"pt\")\"\"\""
   ]
  },
  {
   "cell_type": "code",
   "execution_count": 17,
   "metadata": {
    "execution": {
     "iopub.execute_input": "2024-11-19T23:22:30.606440Z",
     "iopub.status.busy": "2024-11-19T23:22:30.605963Z",
     "iopub.status.idle": "2024-11-19T23:22:30.612475Z",
     "shell.execute_reply": "2024-11-19T23:22:30.611482Z",
     "shell.execute_reply.started": "2024-11-19T23:22:30.606404Z"
    },
    "trusted": true
   },
   "outputs": [],
   "source": [
    "\"\"\"class CustomDataset(Dataset):\n",
    "    def __init__(self, data_dict):\n",
    "        self.pixel_values = data_dict[\"pixel_values\"]\n",
    "        self.input_ids = data_dict[\"input_ids\"]\n",
    "        self.attention_mask = data_dict[\"attention_mask\"]\n",
    "\n",
    "    def __len__(self):\n",
    "        return len(self.pixel_values)\n",
    "\n",
    "    def __getitem__(self, idx):\n",
    "        return {\n",
    "            \"pixel_values\": self.pixel_values[idx],\n",
    "            \"input_ids\": self.input_ids[idx],\n",
    "            \"attention_mask\" : self.attention_mask[idx]\n",
    "        }\n",
    "\n",
    "dataset = CustomDataset(inputs)\n",
    "data_loader = DataLoader(dataset, batch_size=BATCH_SIZE)\"\"\""
   ]
  },
  {
   "cell_type": "code",
   "execution_count": 11,
   "metadata": {
    "execution": {
     "iopub.execute_input": "2024-11-20T01:58:19.727435Z",
     "iopub.status.busy": "2024-11-20T01:58:19.726847Z",
     "iopub.status.idle": "2024-11-20T01:59:47.632756Z",
     "shell.execute_reply": "2024-11-20T01:59:47.631832Z",
     "shell.execute_reply.started": "2024-11-20T01:58:19.727398Z"
    },
    "trusted": true
   },
   "outputs": [
    {
     "name": "stderr",
     "output_type": "stream",
     "text": [
      "100%|██████████| 65/65 [01:27<00:00,  1.35s/it]\n"
     ]
    }
   ],
   "source": [
    "total_output = []\n",
    "with torch.no_grad():\n",
    "    for batch in tqdm(data_loader):\n",
    "        for k,v in batch.items():\n",
    "            batch[k] = v.to(\"cuda\")\n",
    "        outputs = model(**batch)\n",
    "        total_output.append(image_processor.post_process_object_detection(\n",
    "            outputs, \n",
    "            threshold=0.1, \n",
    "            target_sizes=[(1080,1920)])\n",
    "                           )"
   ]
  },
  {
   "cell_type": "code",
   "execution_count": 22,
   "metadata": {
    "execution": {
     "iopub.execute_input": "2024-11-20T01:08:20.844570Z",
     "iopub.status.busy": "2024-11-20T01:08:20.843732Z",
     "iopub.status.idle": "2024-11-20T01:08:20.932657Z",
     "shell.execute_reply": "2024-11-20T01:08:20.932001Z",
     "shell.execute_reply.started": "2024-11-20T01:08:20.844534Z"
    },
    "trusted": true
   },
   "outputs": [],
   "source": [
    "testing = copy.deepcopy(total_output)\n",
    "for scene in testing:\n",
    "    for key, value in scene[0].items():\n",
    "        if isinstance(value, torch.Tensor):\n",
    "            scene[0][key] = value.tolist()"
   ]
  },
  {
   "cell_type": "code",
   "execution_count": 23,
   "metadata": {
    "execution": {
     "iopub.execute_input": "2024-11-20T01:08:24.871528Z",
     "iopub.status.busy": "2024-11-20T01:08:24.871179Z",
     "iopub.status.idle": "2024-11-20T01:08:24.876544Z",
     "shell.execute_reply": "2024-11-20T01:08:24.875781Z",
     "shell.execute_reply.started": "2024-11-20T01:08:24.871497Z"
    },
    "trusted": true
   },
   "outputs": [],
   "source": [
    "box_inx = []\n",
    "\n",
    "for sublist_index, sublist in enumerate(testing):\n",
    "    for d in sublist:\n",
    "        if \"boxes\" in d:\n",
    "            box_inx.append(d[\"boxes\"])\n",
    "\n",
    "end_inx = len(img_list) // 3\n",
    "output_json = {\"video3\":box_inx[:end_inx],\n",
    "              \"video2\":box_inx[end_inx:end_inx*2],\n",
    "              \"video1\":box_inx[end_inx*2:end_inx*3]}"
   ]
  },
  {
   "cell_type": "code",
   "execution_count": 24,
   "metadata": {
    "execution": {
     "iopub.execute_input": "2024-11-20T01:08:28.092880Z",
     "iopub.status.busy": "2024-11-20T01:08:28.092484Z",
     "iopub.status.idle": "2024-11-20T01:08:28.101951Z",
     "shell.execute_reply": "2024-11-20T01:08:28.100921Z",
     "shell.execute_reply.started": "2024-11-20T01:08:28.092841Z"
    },
    "trusted": true
   },
   "outputs": [],
   "source": [
    "output_path = \"/kaggle/working/data.json\"\n",
    "\n",
    "with open(output_path, \"w\") as json_file:\n",
    "    json.dump(output_json, json_file, indent=4)"
   ]
  },
  {
   "cell_type": "code",
   "execution_count": 12,
   "metadata": {
    "execution": {
     "iopub.execute_input": "2024-11-20T01:59:55.379111Z",
     "iopub.status.busy": "2024-11-20T01:59:55.378470Z",
     "iopub.status.idle": "2024-11-20T01:59:56.619136Z",
     "shell.execute_reply": "2024-11-20T01:59:56.618062Z",
     "shell.execute_reply.started": "2024-11-20T01:59:55.379075Z"
    },
    "trusted": true
   },
   "outputs": [],
   "source": [
    "output_video_path = \"/kaggle/working/output.mp4\"\n",
    "fourcc = cv2.VideoWriter_fourcc(*\"mp4v\")\n",
    "fps = 1\n",
    "frame_size = (img_list[0].width, img_list[0].height)\n",
    "out = cv2.VideoWriter(output_video_path, fourcc, fps, frame_size)\n",
    "\n",
    "for frame, result in zip(img_list, total_output):\n",
    "    draw = ImageDraw.Draw(frame)\n",
    "    boxes = result[0][\"boxes\"]\n",
    "    scores = result[0][\"scores\"]\n",
    "    labels = result[0][\"labels\"]\n",
    "\n",
    "    for box, score, label in zip(boxes, scores, labels):\n",
    "        x_min, y_min, x_max, y_max = box\n",
    "        draw.rectangle([(x_min, y_min), (x_max, y_max)], outline=\"red\", width=3)\n",
    "\n",
    "    frame_cv2 = cv2.cvtColor(np.array(frame), cv2.COLOR_RGB2BGR)\n",
    "    out.write(frame_cv2)\n",
    "\n",
    "out.release()"
   ]
  }
 ],
 "metadata": {
  "kaggle": {
   "accelerator": "gpu",
   "dataSources": [
    {
     "datasetId": 6119645,
     "sourceId": 9952909,
     "sourceType": "datasetVersion"
    }
   ],
   "dockerImageVersionId": 30787,
   "isGpuEnabled": true,
   "isInternetEnabled": true,
   "language": "python",
   "sourceType": "notebook"
  },
  "kernelspec": {
   "display_name": "Python 3",
   "language": "python",
   "name": "python3"
  },
  "language_info": {
   "codemirror_mode": {
    "name": "ipython",
    "version": 3
   },
   "file_extension": ".py",
   "mimetype": "text/x-python",
   "name": "python",
   "nbconvert_exporter": "python",
   "pygments_lexer": "ipython3",
   "version": "3.12.2"
  }
 },
 "nbformat": 4,
 "nbformat_minor": 4
}
